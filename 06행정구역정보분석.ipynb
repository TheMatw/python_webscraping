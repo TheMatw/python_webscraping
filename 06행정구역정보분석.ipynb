import pandas as pd

data = pd.read_csv('data/data_draw_korea.csv')
print(type(data))
data.head()

#%%

data.tail()

#%%

data.sample(3)

#%%

print(data.shape)
print(data.columns)
print(data.index)


#%%

data.info()

#%%

data.describe()



#%%

print('인구수 최대값 ',data['인구수'].max())
print('인구수 최소값 ',data['인구수'].min())
print('인구수 평균값 ',data['인구수'].mean())
print('인구수 표준편차값 ',data['인구수'].std())


#%%

data['광역시도'].unique()


#%%

data['광역시도'].value_counts()

#%%

data.loc[data['광역시도'] == '서울특별시'].sort_values(by='인구수',ascending=False).reset_index(drop=True)


#%%

print('인구수 평균', data.loc[data['광역시도'] == '서울특별시','인구수'].mean())
print('인구수 표준편차',data.loc[data['광역시도'] == '서울특별시','인구수'].std())


#%%

data.loc[data['광역시도'] == '경상북도',['행정구역','인구수','면적']].sort_values(by=['인구수','면적'],ascending=False)\
    .reset_index(drop=True)


#%%

data.loc[20:25,'인구수':'광역시도']


#%%

data.iloc[20:25,1:4]


#%%

pop_mean_value = data['인구수'].mean()
print(round(pop_mean_value))
print(f'{pop_mean_value:.2f}')
pop_mean_lt_df = data.loc[data['인구수'] < pop_mean_value, '인구수':'행정구역'].sort_values(by='인구수').reset_index(drop=True)
pop_mean_lt_df.to_excel('data/평균인구수미만지역.xlsx')

#%%

data = data.rename(columns={'Unnamed: 0':'seq'})
data.head()

#%%

data.loc[data['광역시도']=='경기도',['행정구역','인구수']].sort_values(by='인구수',ascending=False).head()

#%%

pop_max_value = data.loc[data['광역시도'] == '경기도','인구수'].max()
pop_max_value

#%%

data.loc[(data['광역시도'] == '경기도') & (data['인구수'] == pop_max_value)]

#%%

def get_pop_max_city(sido_name):
    pop_max_value = data.loc[data['광역시도'] == sido_name,'인구수'].max()
    return data.loc[(data['광역시도'] == sido_name) & (data['인구수'] == pop_max_value),['광역시도','행정구역','인구수']]

#%%

get_pop_max_city('서울특별시')

#%%

# for sido_name in data['광역시도'].unique():
#     print(get_pop_max_city(sido_name))

#%%

pop_max_city_df = pd.DataFrame(columns=['광역시도','행정구역','인구수'])
for sido_name in data['광역시도'].unique():
    pop_max_city_df = pop_max_city_df.append(get_pop_max_city(sido_name))

pop_max_city_df = pop_max_city_df.reset_index(drop=True)
pop_max_city_df

#%%

print(len(pop_max_city_df))
pop_max_city_df.index

#%%

import numpy as np

print(np.arange(1,10+1))
pop_max_city_df.index = np.arange(1,len(pop_max_city_df)+1)


#%%

print(pop_max_city_df.index)
pop_max_city_df

#%%
data['인구수'].groupby(data['행정구역']).sum().sort_values(ascending=False)

#%%

data.groupby('광역시도')['인구수'].sum()
#%%
groupby_df = data.groupby(['광역시도','행정구역'])['인구수'].sum()
groupby_df.to_excel('data/광역시도별행정구역별인구수의합계.xlsx', sheet_name = '인구수')
#%%
data.loc[data['광역시도'] == '세종특별자치시']

#%%
group_agg_df = data.groupby('광역시도')['인구수'].agg(['max','mean','std']).fillna(0).sort_values(by = 'std', ascending=False)
group_agg_df.reset_index(level='광역시도', inplace=False)
#%%

group_agg_df.T
#%%

group_agg_df.transpose()
#%% md
###시각화
#%%
%matplotlib inline

#%%
import matplotlib
import matplotlib.pyplot as plt
import matplotlib.font_manager as fm

import seaborn as sns

print('matplotlib ',matplotlib.__version__)
print('seaborn ',sns.__version__)

#%%

[(font.name, font.fname) for font in fm.fontManager.ttflist if 'Ma' in font.name]

#%%
font_path = 'C:\\Windows\\Fonts\\malgun.ttf'
# font의 파일정보로 font name을 알아내기
font_prop = fm.FontProperties(fname=font_path).get_name()
print(font_prop)
# matplotlib의 rc(run command) 함수를 사용해서 폰트이름 설정
matplotlib.rc('font', family=font_prop)
#%%
data['면적'].corr(data['인구수'])
#%%
seoul_df = data.loc[data['광역시도'] == '서울특별시']
seoul_df['면적'].corr(seoul_df['인구수'])
#%%

seoul_df.head()
#%%

figure,(axes1,axes2) = plt.subplots(nrows=2, ncols=1)
figure.set_size_inches(18,12)
print(figure)
print(axes1)
print(axes2)
sns.barplot(x='행정구역', y='인구수', data=seoul_df.sort_values(by='인구수',ascending=False), ax=axes1)
sns.barplot(x='행정구역', y='면적', data=seoul_df.sort_values(by='면적', ascending=False), ax=axes2)
#%%

gd_df = data.loc[data['광역시도'] == '경기도']
gd_df['면적'].corr(seoul_df['인구수'])
#%%

gd_df.head()
#%%

figure,(axes1,axes2) = plt.subplots(nrows=2, ncols=1)
figure.set_size_inches(18,12)
print(figure)
print(axes1)
print(axes2)
sns.barplot(x='행정구역', y='인구수', data=gd_df.sort_values(by='인구수',ascending=False), ax=axes1)
sns.barplot(x='행정구역', y='면적', data=gd_df.sort_values(by='면적', ascending=False), ax=axes2)
#%%
figure, axes1 = plt.subplots(nrows=1, ncols=1)
figure.set_size_inches(18,12)
sns.barplot(x='광역시도', y='인구수', data=data, ax=axes1)
